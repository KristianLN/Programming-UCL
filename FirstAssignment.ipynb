{
 "cells": [
  {
   "cell_type": "markdown",
   "metadata": {},
   "source": [
    "**A short description of this assignment**\n",
    "\n",
    "Below follows three functions, where the first one ‘accounting’ answers question five in the assignment. Accounting is integrated into the main prompt, code block eight, where all the action happens. The second function, ’showouremployees,’ answers question eight and it can be executed in code block nine. The third function is a function that checks the inventory file and returns the current stock level which answers question seven. The fourth and final function is ’orderengine,’ and t is the backbone of the main prompt. We will return the main prompt in a short moment.\n",
    "\n",
    "Below ’orderengine’ follows the fifth code block, which answers question one and partly question six, by presenting the selection and its inventory.\n",
    "The sixth code block adds the two new kinds to the available selection and updates the inventory, thereby answering question two and partly question six.\n",
    "The seventh code block answers question three, and partly question 6, by deleting the discontinued kind and updating the inventory.\n",
    "The eighth code block answers question seven, by utilizing function three to keep check with the stored inventory file to ensure that we don’t run our of Majings. For know, we jump over code block eight and focuses on code block nine. The ninth code block utilizes function two, and answers question 8 by storing the employees in as CSV file, and prints through the function.\n",
    " \n",
    "Finally, code block eight – the main prompt. It should first of all be explored, as it is very user-friendly. It allows the user to specify kind and amount and it ensures that only whole amounts are ordered. Furthermore, it keeps checking with the inventory, such that the customer does not get disappointed by ordering something that isn’t deep fried yet and ready for delivery. If you are dissatisfied with your order after a short review, you have the option to specify it again.\n",
    "All in all, explore the possibilities!\n",
    "\n",
    "\n"
   ]
  },
  {
   "cell_type": "markdown",
   "metadata": {},
   "source": [
    "*** Hallo and welcome to DanishMajings A/S, a franchise of Majings Inc.***"
   ]
  },
  {
   "cell_type": "markdown",
   "metadata": {},
   "source": [
    "We sell various kinds of delicious Majings, all with a little touch of Denmark! I'm sure you are excited to see all the different kinds of Danish inspired Majings we sell, let me show you Miss!"
   ]
  },
  {
   "cell_type": "code",
   "execution_count": null,
   "metadata": {},
   "outputs": [],
   "source": [
    "def accounting(purchase):\n",
    "    order = {}\n",
    "    totalprice = 0\n",
    "    for item in purchase.keys():\n",
    "        amount = purchase[item]\n",
    "        price = UDM[item]\n",
    "        order[item] = int(amount)*int(price)\n",
    "    for item in order.keys():\n",
    "        totalprice += order[item]\n",
    "    \n",
    "    print('The total price of your order is', totalprice, 'and the receipt looks as follows', order)\n",
    "    return order"
   ]
  },
  {
   "cell_type": "code",
   "execution_count": null,
   "metadata": {},
   "outputs": [],
   "source": [
    "def showouremployees(listofemployees):\n",
    "    execute = 'hire!'\n",
    "    while(execute != 'done'):\n",
    "        execute = input('Please type in the name of the employee: ')\n",
    "        if execute != 'done':\n",
    "            listofemployees.append(execute)\n",
    "        if execute == 'done':\n",
    "            filename = 'Employees.csv'\n",
    "            accessmode = 'w'\n",
    "\n",
    "            with open(filename, accessmode) as Mycsvfile:\n",
    "                Mycsvfile.write(str(listofemployees))\n",
    "            print('')\n",
    "            print('Our employees, both the rabits and the pigons, are;')\n",
    "    return listofemployees"
   ]
  },
  {
   "cell_type": "code",
   "execution_count": null,
   "metadata": {},
   "outputs": [],
   "source": [
    "def checktheinventory(file):\n",
    "    accessmode = 'r'\n",
    "\n",
    "    with open(file, accessmode) as Myfile:\n",
    "        inventory_file = [line.rstrip('\\n') for line in Myfile]\n",
    "        i = 0\n",
    "        inventory_list = list(upint.keys())\n",
    "        print('The status of the inventory is LOW when the current stock is lower than 5, and the status is OUT if the current stock is 0.')\n",
    "        print('')\n",
    "        for item in inventory_file:\n",
    "            if int(item[-2:]) <=5:\n",
    "                print('The inventory of %s is LOW - have that in mind!' % inventory_list[i])\n",
    "            elif int(item[-2:]) ==0:\n",
    "                print('The inventory of %s is OUT - time to deep fry!!' % inventory_list[i])\n",
    "            i += 1"
   ]
  },
  {
   "cell_type": "code",
   "execution_count": null,
   "metadata": {},
   "outputs": [],
   "source": [
    "def orderengine(inventory,order):\n",
    "    confirm_3 = 'no'\n",
    "    while(confirm_3 == 'no' or confirm_3 == 'No'):\n",
    "        num = False\n",
    "        confirm_1 = input('Please tell me which kind you would like ')\n",
    "        confirm_2 = input('Please tell me the amount you would like ')\n",
    "        while(num != True):\n",
    "            try:\n",
    "                confirm_2 = int(confirm_2)\n",
    "            except:\n",
    "                if isinstance(confirm_2,int)==True:\n",
    "                    num = True\n",
    "                else:\n",
    "                    confirm_2 = input('Ouch, you did not give me an integer as amount, please try again.')\n",
    "            if isinstance(confirm_2,int)==True:\n",
    "                num = True\n",
    "                    \n",
    "                if confirm_2 < inventory[confirm_1] and inventory[confirm_1] <=5:\n",
    "                    print('The inventory of %s is LOW - but your desired amount does not exceed! ' % confirm_1)\n",
    "                elif confirm_2 == inventory[confirm_1]:\n",
    "                    print('You have bought them all, the inventory of %s is out - time to deep fry!! ' % confirm_1)\n",
    "                elif confirm_2 > inventory[confirm_1]:\n",
    "                    num = False\n",
    "                    confirm_2 = input('Your desired amount exceeds our intentory, we can not meet your demand sorry! Please request another amount. ')\n",
    "        order[confirm_1] = confirm_2\n",
    "        confirm_3 = input('Thank you for placing your order Miss! Are you done placing your order? ')\n",
    "        while(confirm_3 != 'yes' and confirm_3 != 'Yes' and confirm_3 != 'no' and confirm_3 != 'No'):\n",
    "            confirm_3 = input('Sorry but you did not give me a correct answer. Are you done placing your order? ')\n",
    "    return order"
   ]
  },
  {
   "cell_type": "code",
   "execution_count": null,
   "metadata": {},
   "outputs": [],
   "source": [
    "DM = {'healthy':4,'latenight':3,'slowmorning':4,'sundays':5,'fundays':5,'hungryforfun':3,'imlate':4}\n",
    "inventory = {'healthy':10,'latenight':5,'slowmorning':3,'sundays':6,'fundays':2,'hungryforfun':4,'imlate':1}\n",
    "\n",
    "filename = 'InventoryofMajings.txt'\n",
    "accessmode = 'w'\n",
    "\n",
    "with open(filename, accessmode) as Myfile:\n",
    "    for k,j in inventory.items():\n",
    "        Myfile.write(str(k) + ': '+str(j) + '\\n')\n",
    "\n",
    "print('Our selection consists at the moment of seven different kinds of Majings, namely ', DM,'. For your information, the number next to each Majing is their respectively price.')\n",
    "print('')\n",
    "print('Our current inventory is as follows:', inventory)\n"
   ]
  },
  {
   "cell_type": "code",
   "execution_count": null,
   "metadata": {},
   "outputs": [],
   "source": [
    "NDM = {'oneforthelittleone':2,'adultsonly':6}\n",
    "intchange = {'oneforthelittleone':4,'adultsonly':10}\n",
    "#[next if sel in DM else DM.append(sel) for sel in NDM]\n",
    "UDM = {**DM,**NDM}\n",
    "upint = {**inventory,**intchange}\n",
    "print('After outstanding reviews of our initial selection of Majings, we have decided to add two new kinds to our regular selection. The two new kinds are', NDM,'. Which implies that our total selection is ', UDM)\n",
    "print('')\n",
    "print('Our updated inventory is as follows:', upint)\n",
    "\n",
    "filename = 'UpdatedInventoryofMajings.txt'\n",
    "accessmode = 'w'\n",
    "\n",
    "with open(filename, accessmode) as Myfile:\n",
    "    for k,j in upint.items():\n",
    "        Myfile.write(str(k) + ': '+str(j) + '\\n')"
   ]
  },
  {
   "cell_type": "code",
   "execution_count": null,
   "metadata": {},
   "outputs": [],
   "source": [
    "try:\n",
    "    del UDM['oneforthelittleone']\n",
    "    del upint['oneforthelittleone']\n",
    "except:\n",
    "    print('')\n",
    "    print('**The kind you are trying to remove has already been remove from the current seletion**')\n",
    "    print('')\n",
    "\n",
    "\n",
    "print('It is with great sadness that we have to inform you about our decision to discontinue the sale of, our otherwise delicious kind \"OnefortheLittleOne\". It turns out that Toddlers liked it so much, that it could instantly be seen on the national average BMI for infants. Their parents felt paralyzed with respect to their Toddlers demand, and therefore is our current selection limited to', UDM)\n",
    "print('')\n",
    "print('That also implies that our updated inventory is as follows:', upint)\n",
    "\n",
    "filename = 'FinalInventoryofMajings.txt'\n",
    "accessmode = 'w'\n",
    "\n",
    "with open(filename, accessmode) as Myfile:\n",
    "    for k,j in upint.items():\n",
    "        Myfile.write(str(k) + ': '+str(j) + '\\n')"
   ]
  },
  {
   "cell_type": "code",
   "execution_count": null,
   "metadata": {},
   "outputs": [],
   "source": [
    "checktheinventory('FinalInventoryofMajings.txt')"
   ]
  },
  {
   "cell_type": "code",
   "execution_count": null,
   "metadata": {},
   "outputs": [],
   "source": [
    "orders = {}\n",
    "print('If you can buy some? Of cause you can buy some! You have seen our inventory but just let me know how what you would like. ')\n",
    "\n",
    "orderengine(upint,orders)\n",
    "print(' ')\n",
    "print('Your order has been received and the following has been received', orders)\n",
    "confirm = input('Thank you for placing your order Miss! Kindly take two minutes to review and confirm your order of Majings above. Have we correctly received your order? ')\n",
    "while(confirm != 'yes' and confirm != 'Yes' and confirm != 'no' and confirm != 'No'):\n",
    "    confirm = input('Sorry but I did not understand your answer. Please tell me again, Have we correctly received your order? ')\n",
    "\n",
    "\n",
    "if confirm == 'yes' or confirm == 'Yes':\n",
    "    print(' ')\n",
    "    print('Thank you for placing your order with us, we will process your order with the greatest honor and ship it as soon as they are deep fried! Do not worry, our Pigeons will deliver them to you before you know!')\n",
    "    print('')\n",
    "    accounting(orders)\n",
    "elif confirm == 'no' or confirm == 'No':\n",
    "    orders = {}\n",
    "    damn = ['Ouch']\n",
    "    while(confirm == 'no' or confirm == 'No'):\n",
    "        if confirm == 'yes' or confirm == 'Yes':\n",
    "            print(' ')\n",
    "            print('%s, our rabbits at the order desk is not awake at all! Please try again.' % damn)\n",
    "            print(' ')\n",
    "        orderengine(upint,orders)\n",
    "        print(' ')\n",
    "        print('Your order has been received and the following has been received', orders)\n",
    "        print('')\n",
    "        confirm = input('Thank you for placing your order Miss! Kindly take two minutes to review and confirm your order of Majings above. Have we correctly received your order? ')\n",
    "        while(confirm != 'yes' and confirm != 'Yes' and confirm != 'no' and confirm != 'No'):\n",
    "            confirm = input('Sorry but I did not understand your answer. Please tell me again, Have we correctly received your order? ')\n",
    "        damn.append('Again!')\n",
    "        \n",
    "    if confirm == 'yes' or confirm == 'Yes':\n",
    "        print(' ')\n",
    "        print('Thank you for placing your order with us, we will process your order with the greatest honor and ship it as soon as they are deep fried! Do not worry, our Pigeons will deliver them to you before you know!')\n",
    "        print('')\n",
    "        accounting(orders)\n",
    "upint.update(orders)\n",
    "print('')\n",
    "print('After your purchase is our inventory as follows:', upint)\n",
    "\n",
    "filename = 'AftersaleInventoryofMajings.txt'\n",
    "accessmode = 'w'\n",
    "\n",
    "with open(filename, accessmode) as Myfile:\n",
    "    for k in runn:\n",
    "        Myfile.write(str(upint[k]) + ': '+str(upint[k+1]) + '\\n')\n",
    "\n",
    "checktheinventory('AftersaleInventoryofMajings.txt')"
   ]
  },
  {
   "cell_type": "code",
   "execution_count": null,
   "metadata": {
    "scrolled": true
   },
   "outputs": [],
   "source": [
    "employees = []\n",
    "showouremployees(employees)"
   ]
  }
 ],
 "metadata": {
  "kernelspec": {
   "display_name": "Python 3",
   "language": "python",
   "name": "python3"
  },
  "language_info": {
   "codemirror_mode": {
    "name": "ipython",
    "version": 3
   },
   "file_extension": ".py",
   "mimetype": "text/x-python",
   "name": "python",
   "nbconvert_exporter": "python",
   "pygments_lexer": "ipython3",
   "version": "3.6.4"
  }
 },
 "nbformat": 4,
 "nbformat_minor": 2
}
